{
 "cells": [
  {
   "cell_type": "markdown",
   "id": "74b94e16-dcd1-474a-aba9-c145c4b04d19",
   "metadata": {},
   "source": [
    "# Data Science Tools and Ecostems"
   ]
  },
  {
   "cell_type": "markdown",
   "id": "0dd49053-231e-41d0-ba4c-c3d750bf182d",
   "metadata": {},
   "source": [
    "In this notebook, Data Science Tools and Ecosystem are summarized."
   ]
  },
  {
   "cell_type": "markdown",
   "id": "55f98ee0-43e5-40c8-b15c-a2336f3595f4",
   "metadata": {},
   "source": [
    "**Objectives**\n",
    "* List popular languages for Data Science\n",
    "* List of Data Science Tools\n",
    "* List of Commonly used libraries used by Data Scientist\n",
    "* List of few arithmetic expressions in Python"
   ]
  },
  {
   "cell_type": "markdown",
   "id": "2d7f30f3-1647-4554-ba21-67755f31163e",
   "metadata": {},
   "source": [
    "## Some of the popular languages that Data Scientists use are\n",
    "\n",
    "1. Python\n",
    "2. R\n",
    "3. SQL\n",
    "4. Julia\n",
    "5. C/C++"
   ]
  },
  {
   "cell_type": "markdown",
   "id": "11948b06-464f-426a-94cb-4d148a40d5d6",
   "metadata": {},
   "source": [
    "# Some of the commonly used libraries used by Data Scientist include:\n",
    "\n",
    "1. Pandas\n",
    "2. Numpy\n",
    "3. Matplotlib\n",
    "4. Seaborn\n",
    "5. Sklearn\n",
    "6. TenserFlow\n",
    "7. Keras"
   ]
  },
  {
   "cell_type": "markdown",
   "id": "0d4a3f2e-4293-4e8d-9fd4-88a8a5757d54",
   "metadata": {},
   "source": [
    "# Data Science Tools\n",
    "\n",
    "| Data Science Tools|\n",
    "|------|\n",
    "|PyCharm|\n",
    "|Anaconda|\n",
    "|Vs Code|\n",
    "|Jupyer Lab|\n",
    "|Google Colab|"
   ]
  },
  {
   "cell_type": "markdown",
   "id": "d4146180-cc58-4f37-bb61-fb191d7b7a20",
   "metadata": {},
   "source": [
    "### Below are a few examples of evaluating arithmetic expressions in Python\n",
    "\n",
    "1. $ a + b $ addition\n",
    "2. $ a - b $ substract\n",
    "3. $ a % b $ mode\n",
    "4. $ a / b $ divide\n",
    "5. $ a^{**} b $ power"
   ]
  },
  {
   "cell_type": "code",
   "execution_count": 1,
   "id": "3b43ee42-caf4-47bb-97e0-aa5c5c4f68bc",
   "metadata": {
    "tags": []
   },
   "outputs": [
    {
     "data": {
      "text/plain": [
       "17"
      ]
     },
     "execution_count": 1,
     "metadata": {},
     "output_type": "execute_result"
    }
   ],
   "source": [
    "# This a simple arithmetic expression to mutiply then add integers\n",
    "(3 * 4) + 5"
   ]
  },
  {
   "cell_type": "code",
   "execution_count": 1,
   "id": "dba4e3ea-5fac-470a-ad78-78033761d1c1",
   "metadata": {
    "tags": []
   },
   "outputs": [
    {
     "data": {
      "text/plain": [
       "3.3333333333333335"
      ]
     },
     "execution_count": 1,
     "metadata": {},
     "output_type": "execute_result"
    }
   ],
   "source": [
    "# This will convert 200 minutes to hours by diving by 60\n",
    "minutes = 200\n",
    "hours = minutes / 60\n",
    "hours"
   ]
  },
  {
   "cell_type": "markdown",
   "id": "194a5b93-dc6b-4a28-b57a-ba15da86c8a1",
   "metadata": {},
   "source": [
    "## Author\n",
    "Guliciuc George Gabriel"
   ]
  },
  {
   "cell_type": "code",
   "execution_count": null,
   "id": "5f5ea91a-9c81-435b-b525-0716e7f13358",
   "metadata": {},
   "outputs": [],
   "source": []
  }
 ],
 "metadata": {
  "kernelspec": {
   "display_name": "Python 3 (ipykernel)",
   "language": "python",
   "name": "python3"
  },
  "language_info": {
   "codemirror_mode": {
    "name": "ipython",
    "version": 3
   },
   "file_extension": ".py",
   "mimetype": "text/x-python",
   "name": "python",
   "nbconvert_exporter": "python",
   "pygments_lexer": "ipython3",
   "version": "3.11.5"
  },
  "toc-showcode": false
 },
 "nbformat": 4,
 "nbformat_minor": 5
}
